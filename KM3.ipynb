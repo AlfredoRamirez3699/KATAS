{
 "cells": [
  {
   "cell_type": "code",
   "execution_count": 15,
   "metadata": {},
   "outputs": [
    {
     "name": "stdout",
     "output_type": "stream",
     "text": [
      "DANGER = riesgo de asteroide, IMPACTO INMINENTE\n"
     ]
    }
   ],
   "source": [
    "asteroidspd = int(input('ingrese la velocidad detectada del asteroide'))\n",
    "asteroidsize = int(input('ingrese el tamanho detectado del asteroide'))\n",
    "if asteroidspd > 25 and asteroidsize > 25:\n",
    "    print('DANGER = riesgo de asteroide, IMPACTO INMINENTE')\n",
    "elif asteroidspd >= 20:\n",
    "    print('mira... pide un deseo')\n",
    "elif asteroidsize < 25:\n",
    "    print('Estatus: sin riesgo')\n",
    "else:\n",
    "    print('Estatus: sin riesgo')"
   ]
  }
 ],
 "metadata": {
  "interpreter": {
   "hash": "bd904eaf308c59de2bb0fcabc0c9e9a223945c723ad5a418ba4d21416343959d"
  },
  "kernelspec": {
   "display_name": "Python 3.10.2 64-bit",
   "language": "python",
   "name": "python3"
  },
  "language_info": {
   "codemirror_mode": {
    "name": "ipython",
    "version": 3
   },
   "file_extension": ".py",
   "mimetype": "text/x-python",
   "name": "python",
   "nbconvert_exporter": "python",
   "pygments_lexer": "ipython3",
   "version": "3.10.2"
  },
  "orig_nbformat": 4
 },
 "nbformat": 4,
 "nbformat_minor": 2
}
